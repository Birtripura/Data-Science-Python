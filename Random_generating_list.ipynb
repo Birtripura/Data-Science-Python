{
  "cells": [
    {
      "cell_type": "markdown",
      "metadata": {
        "id": "view-in-github",
        "colab_type": "text"
      },
      "source": [
        "<a href=\"https://colab.research.google.com/github/Birtripura/Data-Science-Python/blob/main/Random_generating_list.ipynb\" target=\"_parent\"><img src=\"https://colab.research.google.com/assets/colab-badge.svg\" alt=\"Open In Colab\"/></a>"
      ]
    },
    {
      "cell_type": "code",
      "source": [
        "import random\n",
        "list_size=random.randint(1,30)\n",
        "def list_():\n",
        "    return [random.randint(1,100) for _ in range(list_size)]\n",
        "my_list=list_()\n",
        "\n",
        "print(my_list)\n",
        "\n",
        "count_list={}\n",
        "\n",
        "for item in my_list:\n",
        "    if item in count_list:\n",
        "            count_list[item] += 1\n",
        "    else:\n",
        "            count_list[item] = 1\n",
        "\n",
        "print(count_list)\n",
        "\n",
        "\n"
      ],
      "metadata": {
        "id": "4b1ddccxJXUD"
      },
      "execution_count": null,
      "outputs": []
    }
  ],
  "metadata": {
    "colab": {
      "provenance": [],
      "name": "Random generating list.ipynb",
      "authorship_tag": "ABX9TyMkbUBh40peEm9SMn5xuB0m",
      "include_colab_link": true
    },
    "kernelspec": {
      "display_name": "Python 3",
      "name": "python3"
    },
    "language_info": {
      "name": "python"
    }
  },
  "nbformat": 4,
  "nbformat_minor": 0
}